{
 "cells": [
  {
   "cell_type": "markdown",
   "metadata": {},
   "source": [
    "Ans 1. The conventions for declaring a variable in python are:-\n",
    "i. The variable name should start with letter or underscore character\n",
    "ii. Variable name should not start with a number but number can be inserted within or at the end of variable name.\n",
    "iii. Variable names are case sensitive i.e CASE and case are different variables.\n",
    "iv. Variable name should not be a keyword."
   ]
  },
  {
   "cell_type": "markdown",
   "metadata": {},
   "source": [
    "Ans 2. If we use restricted keyword to declare a variable name then the compiler will show it as Syntax error because keywords are special words which imply special meanings to the Python interpreter to perform specific operations."
   ]
  },
  {
   "cell_type": "markdown",
   "metadata": {},
   "source": [
    "Ans 3. We can convert string into variable using vars() function.\n",
    "       To convert a string into a variable name using the vars() function in the global scope, we will use the following steps.\n",
    "\n",
    "      i. Using the vars() function, we will obtain the dictionary containing the variable names in the global scope. \n",
    "      ii. After obtaining the dictionary, we will add the string name as a key and the value of the variable as the associated value using the     subscript notation for dictionaries. \n",
    "      iii. Once we add the string and associated value to the dictionary, the variable is created in the global scope."
   ]
  },
  {
   "cell_type": "markdown",
   "metadata": {},
   "source": [
    "Ans 4. We can use '_' to decalre a variable name because according to the conventions of declaring a variable, we can start a variable name with letter or underscore.   "
   ]
  },
  {
   "cell_type": "code",
   "execution_count": 1,
   "metadata": {},
   "outputs": [
    {
     "name": "stdout",
     "output_type": "stream",
     "text": [
      "aritra\n"
     ]
    }
   ],
   "source": [
    "_=\"aritra\"\n",
    "print(_)"
   ]
  },
  {
   "cell_type": "markdown",
   "metadata": {},
   "source": [
    "Ans.5 Python is a \"dynamically-typed\" language. So it does not know the type of the variable until the code is run. Given below is the example."
   ]
  },
  {
   "cell_type": "code",
   "execution_count": 2,
   "metadata": {},
   "outputs": [
    {
     "name": "stdout",
     "output_type": "stream",
     "text": [
      "<class 'int'>   5\n",
      "<class 'str'>   hello\n"
     ]
    }
   ],
   "source": [
    "x=5\n",
    "print(type(x),\" \",x)\n",
    "x=\"hello\"\n",
    "print(type(x),\" \",x)"
   ]
  }
 ],
 "metadata": {
  "kernelspec": {
   "display_name": "Python 3",
   "language": "python",
   "name": "python3"
  },
  "language_info": {
   "codemirror_mode": {
    "name": "ipython",
    "version": 3
   },
   "file_extension": ".py",
   "mimetype": "text/x-python",
   "name": "python",
   "nbconvert_exporter": "python",
   "pygments_lexer": "ipython3",
   "version": "3.10.7"
  },
  "orig_nbformat": 4
 },
 "nbformat": 4,
 "nbformat_minor": 2
}
