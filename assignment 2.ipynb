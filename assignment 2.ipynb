{
 "cells": [
  {
   "cell_type": "markdown",
   "metadata": {},
   "source": [
    "Ans 1. To store single quote (') as a string in a variable"
   ]
  },
  {
   "cell_type": "code",
   "execution_count": 3,
   "metadata": {},
   "outputs": [
    {
     "name": "stdout",
     "output_type": "stream",
     "text": [
      "''\n"
     ]
    }
   ],
   "source": [
    "a=\"''\"\n",
    "print(a)"
   ]
  },
  {
   "cell_type": "markdown",
   "metadata": {},
   "source": [
    "Ans 2. In x='a' ,here x is a string variable because Python does not have a character data type, a single character is simply a string with a length of 1."
   ]
  },
  {
   "cell_type": "markdown",
   "metadata": {},
   "source": [
    "Answer to Q3 is given in the code block below............"
   ]
  },
  {
   "cell_type": "code",
   "execution_count": 8,
   "metadata": {},
   "outputs": [
    {
     "name": "stdout",
     "output_type": "stream",
     "text": [
      "11\n",
      "6\n",
      "35\n"
     ]
    }
   ],
   "source": [
    "a=\"Welcome to Python Foundation Course\"\n",
    "print(a.find(\"P\"))\n",
    "print(a.count('o'))\n",
    "print(len(a))"
   ]
  },
  {
   "cell_type": "markdown",
   "metadata": {},
   "source": [
    "Answer to Q.4 is given the code block below............."
   ]
  },
  {
   "cell_type": "code",
   "execution_count": 10,
   "metadata": {},
   "outputs": [
    {
     "name": "stdout",
     "output_type": "stream",
     "text": [
      "Total number of alphabets 1n lowercase: 5\n",
      "Total number of alphabets 1n uppercase: 1\n",
      "Total number of numer1cal 1n str1ng: 5\n"
     ]
    }
   ],
   "source": [
    "a=\"Panaji@12256\"\n",
    "c=0\n",
    "c1=0\n",
    "c2=0\n",
    "for i in range(0,len(a)):\n",
    "    if(a[i]>='a'and a[i]<='z'):\n",
    "        c=c+1\n",
    "    elif(a[i]>='A' and a[i]<='Z'):\n",
    "        c1=c1+1\n",
    "    elif(a[i]>='0' and a[i]<='9'):\n",
    "        c2=c2+1\n",
    "    else:\n",
    "        continue\n",
    "i=i+1\n",
    "print(\"Total number of alphabets 1n lowercase:\",c)  \n",
    "print(\"Total number of alphabets 1n uppercase:\",c1)\n",
    "print(\"Total number of numer1cal 1n str1ng:\",c2)      "
   ]
  },
  {
   "cell_type": "markdown",
   "metadata": {},
   "source": [
    "Answer 5 is given in the code block below............"
   ]
  },
  {
   "cell_type": "code",
   "execution_count": 1,
   "metadata": {},
   "outputs": [
    {
     "name": "stdout",
     "output_type": "stream",
     "text": [
      "10\n"
     ]
    }
   ],
   "source": [
    "a=10\n",
    "print(str(a))"
   ]
  }
 ],
 "metadata": {
  "kernelspec": {
   "display_name": "Python 3",
   "language": "python",
   "name": "python3"
  },
  "language_info": {
   "codemirror_mode": {
    "name": "ipython",
    "version": 3
   },
   "file_extension": ".py",
   "mimetype": "text/x-python",
   "name": "python",
   "nbconvert_exporter": "python",
   "pygments_lexer": "ipython3",
   "version": "3.10.7"
  },
  "orig_nbformat": 4
 },
 "nbformat": 4,
 "nbformat_minor": 2
}
